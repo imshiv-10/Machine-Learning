{
 "cells": [
  {
   "cell_type": "markdown",
   "id": "15f388ee-f281-454d-bd82-41656f876580",
   "metadata": {},
   "source": [
    "## Learning Objectives\n",
    "- Define machine learning\n",
    "- Define supervised learning\n",
    "- Define unsupervised learning\n",
    "- Write and run Python code in Jupyter Notebooks\n",
    "- Define a regression model\n",
    "- Implement and visualize a cost function\n",
    "- Implement gradient descent\n",
    "- Optimize a regression model using gradient descent"
   ]
  },
  {
   "cell_type": "code",
   "execution_count": null,
   "id": "dca6f280-e53c-41f2-9a80-ad93e36ddefe",
   "metadata": {},
   "outputs": [],
   "source": [
    "!pip install pandas -Uq"
   ]
  },
  {
   "cell_type": "code",
   "execution_count": 4,
   "id": "20e07048-8bce-459f-bf4c-c92646d9eb6b",
   "metadata": {},
   "outputs": [],
   "source": [
    "import pandas as pd"
   ]
  },
  {
   "cell_type": "code",
   "execution_count": null,
   "id": "fa2b0b57-4a79-423f-9e18-48fcc53defde",
   "metadata": {},
   "outputs": [],
   "source": []
  },
  {
   "cell_type": "code",
   "execution_count": null,
   "id": "465163f9-094f-4fab-8ff8-17721b02c023",
   "metadata": {},
   "outputs": [],
   "source": []
  }
 ],
 "metadata": {
  "kernelspec": {
   "display_name": "default:Python",
   "language": "python",
   "name": "conda-env-default-py"
  },
  "language_info": {
   "codemirror_mode": {
    "name": "ipython",
    "version": 3
   },
   "file_extension": ".py",
   "mimetype": "text/x-python",
   "name": "python",
   "nbconvert_exporter": "python",
   "pygments_lexer": "ipython3",
   "version": "3.9.13"
  }
 },
 "nbformat": 4,
 "nbformat_minor": 5
}
